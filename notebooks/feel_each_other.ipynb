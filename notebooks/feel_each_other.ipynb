{
 "cells": [
  {
   "cell_type": "code",
   "execution_count": 13,
   "outputs": [],
   "source": [
    "import matplotlib.pyplot as plt"
   ],
   "metadata": {
    "collapsed": false,
    "pycharm": {
     "name": "#%%\n"
    }
   }
  },
  {
   "cell_type": "markdown",
   "source": [
    "#### Задача\n",
    "Подумай пока над протоколом для вот такой задачи.\n",
    "Есть 10 медальонов. Условно говоря, люди с медальонами шарахаются по лесу, время от времени сближаясь на расстояние, достаточное для прохождения сигнала.\n",
    "Нужно сделать так, чтобы каждый медальон знал, сколько вокруг него других медальонов.\n",
    "\n",
    "Если два медальона передают одновременно, то случается коллизия, и они друг друга глушат. То есть их никто не слышит.\n",
    "\n",
    "Так что нужно придумать, как избежать коллизий. Состояние требуется обновлять раз в четыре секунды\n",
    "\n",
    "#### Протокол передачи данных\n",
    "**Отправка:** Пусть каждый медальон отправляет пакет со своим ID с частотой X Гц\n",
    "**Сбор:** Пусть каждый медальон раз в четыре секунды переходит в состояние RX на $2\\cdot\\frac{1}{X}$\n",
    "\n",
    "Корректность: Допустим, что каждый медальон выбирает в четырех секундах время для сбора случайно. Тогда вероятность того, что никакие два медальона пересекутся по времени передачи примерно равна $\\prod\\limits_{i = 2}^{10}{\\left(1 - \\frac{ 2\\cdot\\frac{1}{X}}{4}\\cdot i \\right)}$\n",
    "\n",
    "Если никакие два медальона не пересекаются по времени приема, то во время приема одного медальона, остальные передают. Поскольку время RX = 2 * период отправки, то каждый медальон отправит хотя бы два раза сообщение принимающему медальону. Предлагается случайно менять время между двумя передачами, чтобы препятствовать синхронизации отдельных медальонов.\n",
    "\n",
    "Посчитаем энергопотребление, как функцию от частоты\n",
    "**MCU (4MHZ):**\n",
    "1. wake up: 1mcS\n",
    "2. 1mcA sleep current, 4MhZ = 1mA\n",
    "\n",
    "**CC1101:**\n",
    "1. wake up: 240mcs from sleep to tx/rx 8.4mA for intermediate consumption\n",
    "2. 200 nA sleep mode, RX - 15mA, TX - 30mA\n",
    "3. TX_time = 300mcS\n",
    "\n",
    "Посчитаем потребление за 4с при скорости отправки 250 kBaud пакета размером 20байт:\n",
    "#### Время на пробуждение\n",
    "240mcs\n",
    "#### Время в TX\n",
    "0.64ms на отправку\n",
    "#### Время в RX\n",
    "$\\frac{1}{X}s$\n"
   ],
   "metadata": {
    "collapsed": false,
    "pycharm": {
     "name": "#%% md\n"
    }
   }
  },
  {
   "cell_type": "code",
   "execution_count": 66,
   "outputs": [],
   "source": [
    "def consumption(x, log=False):\n",
    "    wake_up_time = 240 * (10 ** -6) * (x + 1) * 4\n",
    "    tx_time = 0.64 * (10 ** -3) * x * 4 #\n",
    "    rx_time = 1 / x\n",
    "    sleep_time = (4 - tx_time - rx_time)\n",
    "    # mAs\n",
    "    consumption_mcu = wake_up_time * 1 + tx_time * 1 + rx_time * 1 + sleep_time * (10 ** -3)\n",
    "    consumption_cc1101 = wake_up_time * 8.4 + tx_time * 30 + rx_time * 15 + sleep_time * 200 * (10 ** -6)\n",
    "    return consumption_mcu + consumption_cc1101"
   ],
   "metadata": {
    "collapsed": false,
    "pycharm": {
     "name": "#%%\n"
    }
   }
  },
  {
   "cell_type": "code",
   "execution_count": 67,
   "outputs": [
    {
     "data": {
      "text/plain": "9.0119048"
     },
     "execution_count": 67,
     "metadata": {},
     "output_type": "execute_result"
    }
   ],
   "source": [
    "consumption(100) # mAs for 4 seconds"
   ],
   "metadata": {
    "collapsed": false,
    "pycharm": {
     "name": "#%%\n"
    }
   }
  },
  {
   "cell_type": "code",
   "execution_count": 71,
   "outputs": [
    {
     "data": {
      "text/plain": "<Figure size 432x288 with 1 Axes>",
      "image/png": "[encoded data removed]"
     },
     "metadata": {
      "needs_background": "light"
     },
     "output_type": "display_data"
    }
   ],
   "source": [
    "maxHz = 1 / (240 * (10 ** -6) + 0.64 * (10 ** -3))\n",
    "# print(maxHz)\n",
    "X = [i for i in range(1, int(40))]\n",
    "Y = [consumption(x) for x in X]\n",
    "\n",
    "plt.plot(X, Y)\n",
    "plt.xlabel('tx HZ')\n",
    "plt.ylabel('mAs consumption')\n",
    "plt.show()"
   ],
   "metadata": {
    "collapsed": false,
    "pycharm": {
     "name": "#%%\n"
    }
   }
  },
  {
   "cell_type": "code",
   "execution_count": 76,
   "outputs": [],
   "source": [
    "C = consumption(15) / 3600 # mAh per second"
   ],
   "metadata": {
    "collapsed": false,
    "pycharm": {
     "name": "#%%\n"
    }
   }
  },
  {
   "cell_type": "code",
   "execution_count": 77,
   "outputs": [
    {
     "data": {
      "text/plain": "0.0006683679407407408"
     },
     "execution_count": 77,
     "metadata": {},
     "output_type": "execute_result"
    }
   ],
   "source": [
    "C"
   ],
   "metadata": {
    "collapsed": false,
    "pycharm": {
     "name": "#%%\n"
    }
   }
  },
  {
   "cell_type": "code",
   "execution_count": null,
   "outputs": [],
   "source": [],
   "metadata": {
    "collapsed": false,
    "pycharm": {
     "name": "#%%\n"
    }
   }
  }
 ],
 "metadata": {
  "kernelspec": {
   "display_name": "Python 3",
   "language": "python",
   "name": "python3"
  },
  "language_info": {
   "codemirror_mode": {
    "name": "ipython",
    "version": 2
   },
   "file_extension": ".py",
   "mimetype": "text/x-python",
   "name": "python",
   "nbconvert_exporter": "python",
   "pygments_lexer": "ipython2",
   "version": "2.7.6"
  }
 },
 "nbformat": 4,
 "nbformat_minor": 0
}