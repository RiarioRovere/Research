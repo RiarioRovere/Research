{
 "cells": [
  {
   "cell_type": "code",
   "execution_count": 80,
   "outputs": [],
   "source": [
    "import matplotlib.pyplot as plt\n",
    "import numpy as np"
   ],
   "metadata": {
    "collapsed": false,
    "pycharm": {
     "name": "#%%\n"
    }
   }
  },
  {
   "cell_type": "markdown",
   "source": [
    "#### Задача\n",
    "Подумай пока над протоколом для вот такой задачи.\n",
    "Есть 10 медальонов. Условно говоря, люди с медальонами шарахаются по лесу, время от времени сближаясь на расстояние, достаточное для прохождения сигнала.\n",
    "Нужно сделать так, чтобы каждый медальон знал, сколько вокруг него других медальонов.\n",
    "\n",
    "Если два медальона передают одновременно, то случается коллизия, и они друг друга глушат. То есть их никто не слышит.\n",
    "\n",
    "Так что нужно придумать, как избежать коллизий. Состояние требуется обновлять раз в четыре секунды\n",
    "\n",
    "#### Протокол передачи данных\n",
    "**Отправка:** Пусть каждый медальон отправляет пакет со своим ID с частотой X Гц\n",
    "**Сбор:** Пусть каждый медальон раз в четыре секунды переходит в состояние RX на $2\\cdot\\frac{1}{X}$\n",
    "\n",
    "Корректность: Допустим, что каждый медальон выбирает в четырех секундах время для сбора случайно. Тогда вероятность того, что никакие два медальона пересекутся по времени передачи примерно равна $\\prod\\limits_{i = 2}^{10}{\\left(1 - \\frac{ 2\\cdot\\frac{1}{X}}{4}\\cdot i \\right)}$\n",
    "\n",
    "Если никакие два медальона не пересекаются по времени приема, то во время приема одного медальона, остальные передают. Поскольку время RX = 2 * период отправки, то каждый медальон отправит хотя бы два раза сообщение принимающему медальону. Предлагается случайно менять время между двумя передачами, чтобы препятствовать синхронизации отдельных медальонов.\n",
    "\n",
    "Посчитаем энергопотребление, как функцию от частоты\n",
    "**MCU (4MHZ):**\n",
    "1. wake up: 1mcS\n",
    "2. 1mcA sleep current, 4MhZ = 1mA\n",
    "\n",
    "**CC1101:**\n",
    "1. wake up: 240mcs from sleep to tx/rx 8.4mA for intermediate consumption\n",
    "2. 200 nA sleep mode, RX - 15mA, TX - 30mA\n",
    "3. TX_time = 300mcS\n",
    "\n",
    "Посчитаем потребление за 4с при скорости отправки 250 kBaud пакета размером 20байт:\n",
    "#### Время на пробуждение\n",
    "240mcs\n",
    "#### Время в TX\n",
    "0.64ms на отправку\n",
    "#### Время в RX\n",
    "$\\frac{1}{X}s$\n"
   ],
   "metadata": {
    "collapsed": false,
    "pycharm": {
     "name": "#%% md\n"
    }
   }
  },
  {
   "cell_type": "code",
   "execution_count": 81,
   "outputs": [],
   "source": [
    "LOCKET_CNT = 30\n",
    "\n",
    "SUPER_CYCLE_TIME = 4 # seconds\n",
    "WAKE_UP_TIME = 240 * 10 ** -6\n",
    "MCU_CONSUMPTION = 1 # mA\n",
    "WAKE_UP_CONSUMPTION = 8.4 # mA\n",
    "TX_TIME = 2 * 10 ** -3\n",
    "TX_CONSUMPTION = 20\n",
    "RX_CONSUMPTION = 20\n",
    "\n",
    "\n",
    "def consumption(x):\n",
    "    wake_up_time = WAKE_UP_TIME * (10 ** -6) * (x + 1)\n",
    "    in_tx_time = TX_TIME * x\n",
    "    in_rx_time = 2 / x\n",
    "    sleep_time = (SUPER_CYCLE_TIME - in_tx_time - in_rx_time)\n",
    "    # mAs\n",
    "    consumption_cc1101 = \\\n",
    "        wake_up_time * WAKE_UP_CONSUMPTION + \\\n",
    "        in_tx_time * TX_CONSUMPTION + \\\n",
    "        in_rx_time * RX_CONSUMPTION\n",
    "    return consumption_cc1101 + SUPER_CYCLE_TIME"
   ],
   "metadata": {
    "collapsed": false,
    "pycharm": {
     "name": "#%%\n"
    }
   }
  },
  {
   "cell_type": "code",
   "execution_count": 82,
   "outputs": [
    {
     "data": {
      "text/plain": "<Figure size 432x288 with 1 Axes>",
      "image/png": "[encoded data removed]"
     },
     "metadata": {
      "needs_background": "light"
     },
     "output_type": "display_data"
    }
   ],
   "source": [
    "maxHz = SUPER_CYCLE_TIME / (WAKE_UP_TIME + TX_TIME)\n",
    "# print(maxHz)\n",
    "X = [i for i in range(1, int(40))]\n",
    "Y = [consumption(x) for x in X]\n",
    "\n",
    "plt.plot(X, Y)\n",
    "plt.xlabel('tx HZ')\n",
    "plt.ylabel('mAs consumption')\n",
    "plt.show()"
   ],
   "metadata": {
    "collapsed": false,
    "pycharm": {
     "name": "#%%\n"
    }
   }
  },
  {
   "cell_type": "code",
   "execution_count": 94,
   "outputs": [],
   "source": [
    "C = consumption(10) / 3600 # mAh per supercycle"
   ],
   "metadata": {
    "collapsed": false,
    "pycharm": {
     "name": "#%%\n"
    }
   }
  },
  {
   "cell_type": "code",
   "execution_count": 95,
   "outputs": [
    {
     "data": {
      "text/plain": "13.888888852222221"
     },
     "execution_count": 95,
     "metadata": {},
     "output_type": "execute_result"
    }
   ],
   "source": [
    "700 / C * SUPER_CYCLE_TIME / 3600 / 24 # days work from 2 AAA battery (700mAh)"
   ],
   "metadata": {
    "collapsed": false,
    "pycharm": {
     "name": "#%%\n"
    }
   }
  },
  {
   "cell_type": "markdown",
   "source": [
    "$L = {l_i | i \\in 1..LOCKET CNT}$\n",
    "\n",
    "Ниже мы рассмотрим один период RX медальона $l_1$ длиной $\\frac{1}{X}s$. Посчитаем вероятность того, что он корректно примет сигнал от всех медальонов ${l_i | i \\in 2..LOCKET CNT}$, которые могут быть на протяжении $\\frac{1}{X}s$ в состоянии RX и/или TX. Медальон входит в RX после $TX_i$ и до $TX_{i+1}$. $time([TX_i, TX_{i+1}])=\\frac{1}{X}s$\n",
    "\n",
    "Будем рассматривать только временной отрезок $[TX_i, TX_{i+1}]$. Рассмотрим вероятность того, что медальону $l_2$ удасться\n",
    "\n",
    "В этот отрезок каждый медальон в случайный момент времени пытается отправить сигнал."
   ],
   "metadata": {
    "collapsed": false,
    "pycharm": {
     "name": "#%% md\n"
    }
   }
  },
  {
   "cell_type": "markdown",
   "source": [],
   "metadata": {
    "collapsed": false
   }
  },
  {
   "cell_type": "code",
   "execution_count": 97,
   "outputs": [
    {
     "data": {
      "text/plain": "<Figure size 432x288 with 1 Axes>",
      "image/png": "[encoded data removed]"
     },
     "metadata": {
      "needs_background": "light"
     },
     "output_type": "display_data"
    }
   ],
   "source": [
    "def success_probability(x):\n",
    "    period = SUPER_CYCLE_TIME / x\n",
    "    free_time = period - TX_TIME # free space for others. TX_TIME - tx time of l_2\n",
    "    p = np.power(free_time / period, LOCKET_CNT - 2) # all other lockets 3..LOCKET_CNT\n",
    "    p_of_no_rx_collision = (x - 1) / x # у второго медальона 4x отправок. Одна из которых будет испорчена его RX-ом. Вероятность того, что это наша отправка\n",
    "    # не будет испорчена RX-ом равна (4x - 1) / 4x\n",
    "    # print(p_of_no_rx_collision)\n",
    "    return p * p_of_no_rx_collision\n",
    "\n",
    "X = [i for i in range(1, int(40))]\n",
    "PY = [success_probability(x) for x in X]\n",
    "\n",
    "plt.plot(X, PY)\n",
    "plt.xlabel('tx HZ')\n",
    "plt.ylabel('success tx probability from l2 to l1')\n",
    "plt.show()"
   ],
   "metadata": {
    "collapsed": false,
    "pycharm": {
     "name": "#%%\n"
    }
   }
  },
  {
   "cell_type": "code",
   "execution_count": 85,
   "outputs": [],
   "source": [],
   "metadata": {
    "collapsed": false,
    "pycharm": {
     "name": "#%%\n"
    }
   }
  }
 ],
 "metadata": {
  "kernelspec": {
   "display_name": "Python 3",
   "language": "python",
   "name": "python3"
  },
  "language_info": {
   "codemirror_mode": {
    "name": "ipython",
    "version": 2
   },
   "file_extension": ".py",
   "mimetype": "text/x-python",
   "name": "python",
   "nbconvert_exporter": "python",
   "pygments_lexer": "ipython2",
   "version": "2.7.6"
  }
 },
 "nbformat": 4,
 "nbformat_minor": 0
}